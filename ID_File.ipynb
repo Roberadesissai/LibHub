{
 "cells": [
  {
   "cell_type": "code",
   "execution_count": 838,
   "metadata": {},
   "outputs": [],
   "source": [
    "import uuid\n",
    "import time\n",
    "import string\n",
    "import base64\n",
    "import random\n",
    "import hashlib\n",
    "import datetime"
   ]
  },
  {
   "cell_type": "code",
   "execution_count": 839,
   "metadata": {},
   "outputs": [],
   "source": [
    "cycle = ['A1', 'B2', 'C3', 'D3', 'E4', 'F5', 'G6', 'H7', 'I8', 'J9', 'K10', 'L11', 'M12', 'N13', 'O14', 'P15', 'Q16', 'R17', 'S18', 'T19', 'U20', 'V21', 'W22', 'X23', 'Y24', 'Z25']"
   ]
  },
  {
   "cell_type": "code",
   "execution_count": 840,
   "metadata": {},
   "outputs": [
    {
     "name": "stdout",
     "output_type": "stream",
     "text": [
      "93c2bb69-47a2-4461-9511-f349494ff155\n",
      "93c2bb69\n"
     ]
    }
   ],
   "source": [
    "unique_id = str(uuid.uuid4())\n",
    "print(unique_id)\n",
    "print(unique_id[:8])\n"
   ]
  },
  {
   "cell_type": "code",
   "execution_count": 841,
   "metadata": {},
   "outputs": [
    {
     "name": "stdout",
     "output_type": "stream",
     "text": [
      "43235\n"
     ]
    }
   ],
   "source": [
    "unique_id = str(random.randint(10000, 99999))\n",
    "print(unique_id)"
   ]
  },
  {
   "cell_type": "code",
   "execution_count": 842,
   "metadata": {},
   "outputs": [
    {
     "name": "stdout",
     "output_type": "stream",
     "text": [
      "W8QC0E3X9B\n"
     ]
    }
   ],
   "source": [
    "unique_id = ''.join(random.choice(string.ascii_uppercase + string.digits) for _ in range(10))\n",
    "print(unique_id)"
   ]
  },
  {
   "cell_type": "code",
   "execution_count": 843,
   "metadata": {},
   "outputs": [
    {
     "name": "stdout",
     "output_type": "stream",
     "text": [
      "083RXT25OD\n"
     ]
    }
   ],
   "source": [
    "unique_id = ''.join(random.choices(string.ascii_uppercase + string.digits, k=10))\n",
    "print(unique_id)"
   ]
  },
  {
   "cell_type": "code",
   "execution_count": 844,
   "metadata": {},
   "outputs": [
    {
     "name": "stdout",
     "output_type": "stream",
     "text": [
      "1699407810\n",
      "07810\n"
     ]
    }
   ],
   "source": [
    "unique_id = str(int(time.time()))\n",
    "print(unique_id)\n",
    "print(unique_id[-5:])"
   ]
  },
  {
   "cell_type": "code",
   "execution_count": 845,
   "metadata": {},
   "outputs": [
    {
     "name": "stdout",
     "output_type": "stream",
     "text": [
      "788caa0a15e81c7baedd827dd572713e\n",
      "788caa0a15\n"
     ]
    }
   ],
   "source": [
    "unique_id = hashlib.md5('Test_ID'.encode('utf-8')).hexdigest()\n",
    "print(unique_id)\n",
    "print(unique_id[:10])"
   ]
  },
  {
   "cell_type": "code",
   "execution_count": 846,
   "metadata": {},
   "outputs": [
    {
     "name": "stdout",
     "output_type": "stream",
     "text": [
      "abc811\n"
     ]
    }
   ],
   "source": [
    "unique_id = 'abc' + str(random.randint(100, 999))\n",
    "print(unique_id)"
   ]
  },
  {
   "cell_type": "code",
   "execution_count": 847,
   "metadata": {},
   "outputs": [
    {
     "name": "stdout",
     "output_type": "stream",
     "text": [
      "exa001\n"
     ]
    }
   ],
   "source": [
    "unique_id = 'example'[:3] + '001'\n",
    "print(unique_id)"
   ]
  },
  {
   "cell_type": "code",
   "execution_count": 848,
   "metadata": {},
   "outputs": [
    {
     "name": "stdout",
     "output_type": "stream",
     "text": [
      "ZXhhb\n"
     ]
    }
   ],
   "source": [
    "unique_id = base64.b64encode(b'example').decode('utf-8')[:5]\n",
    "print(unique_id)"
   ]
  },
  {
   "cell_type": "code",
   "execution_count": 849,
   "metadata": {},
   "outputs": [
    {
     "name": "stdout",
     "output_type": "stream",
     "text": [
      "ID1001\n"
     ]
    }
   ],
   "source": [
    "unique_id = 'ID' + str(1001)\n",
    "print(unique_id)"
   ]
  },
  {
   "cell_type": "code",
   "execution_count": 850,
   "metadata": {},
   "outputs": [
    {
     "name": "stdout",
     "output_type": "stream",
     "text": [
      "2311078073\n"
     ]
    }
   ],
   "source": [
    "unique_id = datetime.date.today().strftime(\"%y%m%d\") + str(random.randint(100, 9999))\n",
    "print(unique_id)"
   ]
  },
  {
   "cell_type": "code",
   "execution_count": 851,
   "metadata": {},
   "outputs": [
    {
     "name": "stdout",
     "output_type": "stream",
     "text": [
      "K8S5H2T78SPH\n"
     ]
    }
   ],
   "source": [
    "unique_id = 'K8' + ''.join(random.choices(string.ascii_uppercase + string.digits, k=10))\n",
    "print(unique_id)"
   ]
  },
  {
   "cell_type": "code",
   "execution_count": 857,
   "metadata": {},
   "outputs": [
    {
     "name": "stdout",
     "output_type": "stream",
     "text": [
      "V21921\n"
     ]
    }
   ],
   "source": [
    "unique_id = cycle[random.randint(0, len(cycle)-1)] + str(random.randint(100, 999))\n",
    "print(unique_id)"
   ]
  },
  {
   "cell_type": "code",
   "execution_count": 856,
   "metadata": {},
   "outputs": [
    {
     "name": "stdout",
     "output_type": "stream",
     "text": [
      "A100000\n",
      "B200001\n",
      "C300002\n",
      "D300003\n",
      "E400004\n",
      "F500005\n"
     ]
    }
   ],
   "source": [
    "for i in range(0 , len(cycle)-20):\n",
    "    id = f\"{cycle[i][:3]}{i:05d}\"\n",
    "    print(id)"
   ]
  }
 ],
 "metadata": {
  "kernelspec": {
   "display_name": "Python 3",
   "language": "python",
   "name": "python3"
  },
  "language_info": {
   "codemirror_mode": {
    "name": "ipython",
    "version": 3
   },
   "file_extension": ".py",
   "mimetype": "text/x-python",
   "name": "python",
   "nbconvert_exporter": "python",
   "pygments_lexer": "ipython3",
   "version": "3.10.9"
  }
 },
 "nbformat": 4,
 "nbformat_minor": 2
}
