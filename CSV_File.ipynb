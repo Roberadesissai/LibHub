{
 "cells": [
  {
   "cell_type": "code",
   "execution_count": 1,
   "metadata": {},
   "outputs": [],
   "source": [
    "import csv"
   ]
  },
  {
   "cell_type": "markdown",
   "metadata": {},
   "source": [
    "##### Reading a CSV File:"
   ]
  },
  {
   "cell_type": "code",
   "execution_count": 2,
   "metadata": {},
   "outputs": [
    {
     "name": "stdout",
     "output_type": "stream",
     "text": [
      "['ID', 'Name', 'Age', 'City']\n",
      "['XX001', 'Emma', '21', 'New York']\n",
      "['XX002', 'Liam', '22', 'Los Angeles']\n",
      "['XX003', 'Olivia', '23', 'Chicago']\n",
      "['XX004', 'Noah', '24', 'Houston']\n",
      "['XX005', 'Ava', '25', 'Phoenix']\n",
      "['XX006', 'Ethan', '26', 'Philadelphia']\n",
      "['XX007', 'Isabella', '27', 'San Antonio']\n",
      "['XX008', 'Mason', '28', 'San Diego']\n",
      "['XX009', 'Sophia', '29', 'Dallas']\n",
      "['XX010', 'Logan', '30', 'San Jose']\n",
      "['XX011', 'Mia', '31', 'Austin']\n",
      "['XX012', 'Lucas', '32', 'Jacksonville']\n",
      "['XX013', 'Amelia', '33', 'Fort Worth']\n",
      "['XX014', 'Jackson', '34', 'Columbus']\n",
      "['XX015', 'Charlotte', '35', 'San Francisco']\n",
      "['XX016', 'Aiden', '36', 'Charlotte']\n",
      "['XX017', 'Harper', '37', 'Indianapolis']\n",
      "['XX018', 'James', '38', 'Seattle']\n",
      "['XX019', 'Evelyn', '39', 'Denver']\n",
      "['XX020', 'Benjamin', '40', 'Washington']\n"
     ]
    }
   ],
   "source": [
    "with open('Data/example.csv', mode='r', newline='', encoding='utf-8') as csv_file:\n",
    "    reader = csv.reader(csv_file, delimiter=',')\n",
    "    for row in reader:\n",
    "        print(row)"
   ]
  },
  {
   "cell_type": "markdown",
   "metadata": {},
   "source": [
    "##### Writing to a CSV File:"
   ]
  },
  {
   "cell_type": "code",
   "execution_count": 3,
   "metadata": {},
   "outputs": [],
   "source": [
    "with open('Data/example.csv', mode='w', newline='', encoding='utf-8') as file:\n",
    "    writer = csv.writer(file)\n",
    "    writer.writerow(['Name', 'Age', 'City'])\n",
    "    writer.writerow(['Alice', '20', 'Beijing'])"
   ]
  },
  {
   "cell_type": "markdown",
   "metadata": {},
   "source": [
    "##### Appending o a CSV File:"
   ]
  },
  {
   "cell_type": "code",
   "execution_count": 4,
   "metadata": {},
   "outputs": [],
   "source": [
    "with open('Data/example.csv', mode='a', newline='', encoding='utf-8') as file:\n",
    "    writer = csv.writer(file)\n",
    "    writer.writerow(['Bob', '25', 'Los Angeles'])"
   ]
  },
  {
   "cell_type": "markdown",
   "metadata": {},
   "source": [
    "##### Reading CSV File into a List "
   ]
  },
  {
   "cell_type": "code",
   "execution_count": 5,
   "metadata": {},
   "outputs": [
    {
     "name": "stdout",
     "output_type": "stream",
     "text": [
      "['Name', 'Age', 'City']\n",
      "['Alice', '20', 'Beijing']\n",
      "['Bob', '25', 'Los Angeles']\n"
     ]
    }
   ],
   "source": [
    "with open('Data/example.csv', mode='r', newline='', encoding='utf-8') as csv_file:\n",
    "    reader = csv.reader(csv_file, delimiter=',')\n",
    "    data = list(reader)\n",
    "\n",
    "    for row in data:\n",
    "        print(row)"
   ]
  },
  {
   "cell_type": "markdown",
   "metadata": {},
   "source": [
    "##### Writing a List o Rows to a CSV File:"
   ]
  },
  {
   "cell_type": "code",
   "execution_count": 6,
   "metadata": {},
   "outputs": [],
   "source": [
    "rows = [['Name', 'Age', 'City', 'Country', 'Occupation'], ['Alice', '25', 'New York', 'United States', 'Software Engineer'], ['Bob', '30', 'New York', 'United States', 'Software Engineer']]\n",
    "with open('Data/Occupation.csv', mode='w', newline='', encoding='utf-8') as file:\n",
    "    writer = csv.writer(file)\n",
    "    writer.writerows(rows)"
   ]
  },
  {
   "cell_type": "markdown",
   "metadata": {},
   "source": [
    "##### Reading CSV File with DictReader:"
   ]
  },
  {
   "cell_type": "code",
   "execution_count": 7,
   "metadata": {},
   "outputs": [
    {
     "name": "stdout",
     "output_type": "stream",
     "text": [
      "{'Name': 'Alice', 'Age': '20', 'City': 'Beijing'}\n",
      "{'Name': 'Bob', 'Age': '25', 'City': 'Los Angeles'}\n"
     ]
    }
   ],
   "source": [
    "with open('Data/example.csv', mode='r', newline='', encoding='utf-8') as csv_file:\n",
    "    reader = csv.DictReader(csv_file, delimiter=',')\n",
    "    for row in reader:\n",
    "        print(row)"
   ]
  },
  {
   "cell_type": "markdown",
   "metadata": {},
   "source": [
    "##### Writing with DictWriter:"
   ]
  },
  {
   "cell_type": "code",
   "execution_count": 8,
   "metadata": {},
   "outputs": [],
   "source": [
    "with open('Data/example.csv', mode='w', newline='', encoding='utf-8') as file:\n",
    "    fieldnames = ['Name', 'Age', 'City']\n",
    "    writer = csv.DictWriter(file, fieldnames=fieldnames)\n",
    "    writer.writeheader()\n",
    "    writer.writerow({'Name': 'Alice', 'Age': 30, 'City': 'New York'})\n",
    "    writer.writerow({'Name': 'Bob', 'Age': 20, 'City': 'London'})\n",
    "    writer.writerow({'Name': 'Charlie', 'Age': 40, 'City': 'Paris'})"
   ]
  },
  {
   "cell_type": "markdown",
   "metadata": {},
   "source": [
    "##### Filtering Data while Reading:"
   ]
  },
  {
   "cell_type": "code",
   "execution_count": 9,
   "metadata": {},
   "outputs": [
    {
     "name": "stdout",
     "output_type": "stream",
     "text": [
      "[['Alice', '30', 'New York'], ['Charlie', '40', 'Paris']]\n"
     ]
    }
   ],
   "source": [
    "with open('Data/example.csv', mode='r', newline='', encoding='utf-8') as csv_file:\n",
    "    reader = csv.reader(csv_file, delimiter=',')\n",
    "    filtered_data = [row for row in reader if row[1] > '25'][1:]\n",
    "    print(filtered_data)\n"
   ]
  },
  {
   "cell_type": "markdown",
   "metadata": {},
   "source": [
    "##### Update a Row:"
   ]
  },
  {
   "cell_type": "code",
   "execution_count": 10,
   "metadata": {},
   "outputs": [],
   "source": [
    "data = []\n",
    "with open('Data/example.csv', mode='r', newline='', encoding='utf-8') as csv_file:\n",
    "    csv_reader = csv.reader(csv_file, delimiter=',')\n",
    "    for row in csv_reader:\n",
    "        if row[0] == 'Alice':\n",
    "            row[1] = '32'\n",
    "        data.append(row)\n",
    "\n",
    "with open('Data/example.csv', mode='w', newline='', encoding='utf-8') as file:\n",
    "    writer = csv.writer(file, delimiter=',')\n",
    "    writer.writerows(data)"
   ]
  },
  {
   "cell_type": "markdown",
   "metadata": {},
   "source": [
    "##### Reading a CSV File with a Custom Delimiter:"
   ]
  },
  {
   "cell_type": "code",
   "execution_count": 11,
   "metadata": {},
   "outputs": [
    {
     "name": "stdout",
     "output_type": "stream",
     "text": [
      "['Name', 'Age', 'City']\n",
      "['Alice', '32', 'New York']\n",
      "['Bob', '20', 'London']\n",
      "['Charlie', '40', 'Paris']\n"
     ]
    }
   ],
   "source": [
    "with open('Data/example.csv', mode='r', newline='', encoding='utf-8') as csv_file:\n",
    "    csv_reader = csv.reader(csv_file, delimiter=',')\n",
    "    for row in csv_reader:\n",
    "        print(row)"
   ]
  },
  {
   "cell_type": "markdown",
   "metadata": {},
   "source": [
    "##### Skipping the Header:"
   ]
  },
  {
   "cell_type": "code",
   "execution_count": 12,
   "metadata": {},
   "outputs": [
    {
     "name": "stdout",
     "output_type": "stream",
     "text": [
      "['Alice', '32', 'New York']\n",
      "['Bob', '20', 'London']\n",
      "['Charlie', '40', 'Paris']\n"
     ]
    }
   ],
   "source": [
    "with open('Data/example.csv', mode='r', newline='', encoding='utf-8') as csv_file:\n",
    "    csv_reader = csv.reader(csv_file, delimiter=',')\n",
    "    next(csv_reader)\n",
    "    for row in csv_reader:\n",
    "        print(row)"
   ]
  },
  {
   "cell_type": "markdown",
   "metadata": {},
   "source": [
    "##### Reading CSV File and Converting to a Dictionary"
   ]
  },
  {
   "cell_type": "code",
   "execution_count": 13,
   "metadata": {},
   "outputs": [
    {
     "name": "stdout",
     "output_type": "stream",
     "text": [
      "[{'Name': 'Alice', 'Age': '32', 'City': 'New York'}, {'Name': 'Bob', 'Age': '20', 'City': 'London'}, {'Name': 'Charlie', 'Age': '40', 'City': 'Paris'}]\n"
     ]
    }
   ],
   "source": [
    "with open('Data/example.csv', mode='r', newline='', encoding='utf-8') as csv_file:\n",
    "    reader = csv.DictReader(csv_file)\n",
    "    data = [dict(row) for row in reader]\n",
    "    print(data)"
   ]
  }
 ],
 "metadata": {
  "kernelspec": {
   "display_name": "Python 3",
   "language": "python",
   "name": "python3"
  },
  "language_info": {
   "codemirror_mode": {
    "name": "ipython",
    "version": 3
   },
   "file_extension": ".py",
   "mimetype": "text/x-python",
   "name": "python",
   "nbconvert_exporter": "python",
   "pygments_lexer": "ipython3",
   "version": "3.10.9"
  }
 },
 "nbformat": 4,
 "nbformat_minor": 2
}
